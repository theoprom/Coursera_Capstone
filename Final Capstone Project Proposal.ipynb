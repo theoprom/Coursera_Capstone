{
    "cells": [
        {
            "cell_type": "markdown",
            "metadata": {
                "collapsed": true
            },
            "source": "<h1 align=\"center\">Final Capstone Project Proposal</h1> \n<h2 align=\"center\">A Data-Driven Guide to Berlin's Neighborhoods for University Students</h2> \n<h3 align=\"center\"><em>by Thithat (Theo) Promlikitchai</em></h3> "
        },
        {
            "cell_type": "markdown",
            "metadata": {},
            "source": "### <u> 1. Introduction</u>"
        },
        {
            "cell_type": "markdown",
            "metadata": {},
            "source": "Berlin is one of the most populous cities in the European Union with an estimated population of 3.6 million in 2021. The city's rich history of immigrants and its inclusive attitude towards diverse identities have made the city an international destination for highly-skilled, young talents. Besides its cultural assets and lively social scenes, Berlin also boasts a number of world-renowned universities and research institutions recognized by the Times Higher Education such as the Free University of Berlin and the Humboldt University of Berlin. Furthermore, Berlin offers a great selection of post-graduation opportunities in its start-up world or in one of its fast-growing service, creative, and high-tech industries.\n\nThis project aims to respond to Berlin's ability to attract both domestic and international students by tackling one of the biggest concerns facing this demographic: relocating to and settling in a new city. Thus, the problem statement can be phrased as the following questions:\n\n> Which neighborhoods in Berlin are most appealing to university students? How can we characterize the experiences of living in one of these neighborhoods?\n\nAlthough several subjective factors will contribute to such a decision, this project will examine quantifiable factors such as average rent prices, demography, and average commute distances to surrounding universities. In addition, venues surrounding public transport stations will be used to create different clusters. These clusters will help describe the amenities available in each neighborhood and further tailor the project's recommendations to the unique needs of each student. \n"
        },
        {
            "cell_type": "markdown",
            "metadata": {},
            "source": "###  1.1 Business Case"
        },
        {
            "cell_type": "markdown",
            "metadata": {},
            "source": "This project will benefit stakeholders such as but not limited to:\n\n1. **Prospective University Students:** Students will be able to narrow down their apartment search to areas that best suit their lifestyle choices and other specifications, making the process of resettling more convenient.\n2. **The City of Berlin:** The municipal government can use data science to help brand Berlin as a student city and promote specific neighborhoods, bringing in additional revenue and an educated workforce. \n3. **Real Estate Companies:** Commercial and residential real estate companies that target university students and young adults can leverage such findings to support their investment decisions and marketing strategy."
        },
        {
            "cell_type": "markdown",
            "metadata": {},
            "source": "### <u> 2. Data </u>"
        },
        {
            "cell_type": "markdown",
            "metadata": {},
            "source": "Below is a list of the data sources used in this project and their description:\n\n* **[Berlin's localities](https://daten.odis-berlin.de/de/dataset/ortsteile/) GeoJSON file for choropleth mapping and CSV file with names, the boroughs they belong to, and respective land area.** Berlin is divided into 12 boroughs (Bezirke), which are then subdivided into a total of 96 localities (Ortsteile). Additional information can be webscraped from [Wikipedia](https://en.m.wikipedia.org/wiki/Boroughs_and_neighborhoods_of_Berlin)\n* **A CSV file with a list of [universities in Berlin](https://www.hochschulkompass.de/home.html) (Hochschulen and Universit\u00e4ten).** Coordinates were manually coded using Google Maps.\n* **[Public transport stations](https://github.com/okfde/berlin.appsandthecity/tree/gh-pages/downloads) used for clustering**. The raw Excel file was cleaned by referencing Wikipedia to include only [U-Bahn](https://en.wikipedia.org/wiki/List_of_Berlin_U-Bahn_stations) and [S-Bahn](https://en.wikipedia.org/wiki/List_of_Berlin_S-Bahn_stations) stations. Coordinates were then converted from Gau\u00df-Kr\u00fcger Zone 4 to WGS84 Decimal Degrees. Rather than using localities, clustering these stations will provide more variation in the results. Furthermore, students who relocated to an urban area are unlikely to own a car, making access to public transportation essential.\n* **Rent prices by localities webscraped from [HomeDay](https://www.homeday.de/de/blog/mietpreise-berlin-2019/).** Data as of 2019.\n* **A [CSV file](https://daten.berlin.de/datensaetze/einwohnerinnen-und-einwohner-den-ortsteilen-berlins-am-31122019) containing demographics by localities.** Data as of December 31st, 2019. The raw CSV file was cleaned by referencing the accompanying metadata.\n* **Foursquare Venue Data obtained using its API.** In order to segment the public transport stations into clusters, venues within a 700 meters search radius of each station were collected. For this project, neighborhoods are defined by the walking catchment around these stations. 700 meters was selected based on the [average walking distance of Berliners](https://moovitapp.com/insights/en/Moovit_Insights_Public_Transit_Index-countries), and this distance is unlikely to result in signficiant overlapping judging from the [average walking distance between stations](https://medium.com/@kristin_baumann/walking-the-berlin-s-u-bahn-network-ec2c0b2642fd). Foursquare [metadata](https://developer.foursquare.com/docs/build-with-foursquare/categories/) was also downloaded to group venue categories during data processing.\n\n"
        },
        {
            "cell_type": "markdown",
            "metadata": {},
            "source": "###  2.1 General Workflow"
        },
        {
            "cell_type": "markdown",
            "metadata": {},
            "source": "1. Obtain and clean Berlin's localities into a dataframe. Retrieve the coordinates of each locality using the geocoder.\n<hr style=\"border:1px solid gray\"> </hr>\n2. Create a CSV file with the name of Berlin universities and their coordinates using Excel.\n<hr style=\"border:1px solid gray\"> </hr>\n3. Obtain and clean the public transport stations dataset using Excel and pandas. Convert the coordinates from GK4 to WGS84.\n<hr style=\"border:1px solid gray\"> </hr>\n4. Webscrape and clean rent prices by localities into a dataframe. Subset localities on the lower end of rent prices only.\n<hr style=\"border:1px solid gray\"> </hr>\n5. Obtain and clean demographics by localities into a dataframe. Subset localities with the highest population of young adults.\n<hr style=\"border:1px solid gray\"> </hr>\n6. Calculate distances from universities to each locality. Based on findings, either a) include all localities that have access to at least one university based on a reasonable commute time, b) subset localities that are able to reach the highest number of universities, or c) subset localities with the lowest average commute time to universities.\n<hr style=\"border:1px solid gray\"> </hr>\n7. Based on Steps 4,5,and 6, create a list of final localities that meet the critieria. Visualize the above steps using plots and maps.\n<hr style=\"border:1px solid gray\"> </hr>\n8. Obtain and clean venue data using the Foursquare API and public transport stations as the origin points. Use the metadata to organize venue categories into larger groups.\n<hr style=\"border:1px solid gray\"> </hr>\n9. Prepare the venue data for clustering using one-hot encoding. Fit the model with K-Means clustering and determine the optimal number of clusters.\n<hr style=\"border:1px solid gray\"> </hr>\n10. Select cluster points that fall inside localities selected in Step 7. Visualize final clusters on a map.\n<hr style=\"border:1px solid gray\"> </hr>\n11. Summarize the characteristics of each cluster using the venue data.\n<hr style=\"border:1px solid gray\"> </hr>"
        }
    ],
    "metadata": {
        "kernelspec": {
            "display_name": "Python 3.7",
            "language": "python",
            "name": "python3"
        },
        "language_info": {
            "codemirror_mode": {
                "name": "ipython",
                "version": 3
            },
            "file_extension": ".py",
            "mimetype": "text/x-python",
            "name": "python",
            "nbconvert_exporter": "python",
            "pygments_lexer": "ipython3",
            "version": "3.7.10"
        }
    },
    "nbformat": 4,
    "nbformat_minor": 1
}