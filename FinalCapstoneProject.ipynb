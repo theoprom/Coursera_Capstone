{
 "cells": [
  {
   "cell_type": "markdown",
   "id": "8f289309-fc0b-41a9-9486-a8b61868dea2",
   "metadata": {},
   "source": [
    "<h1 align=\"center\">Final Capstone Project</h1> \n",
    "<h3 align=\"center\">by Thithat Promlikitchai</h3> "
   ]
  },
  {
   "cell_type": "markdown",
   "id": "b9845a5c-5ed4-4cec-ad5e-74f6ea283f1f",
   "metadata": {},
   "source": [
    "#### **Note:** _This Jupyter notebook will be used to process, analyze, and visualize data for the final capstone project_"
   ]
  },
  {
   "cell_type": "code",
   "execution_count": 1,
   "id": "a4fd17da-2168-4c1e-9ef4-396066ac3215",
   "metadata": {},
   "outputs": [],
   "source": [
    "import pandas as pd\n",
    "import numpy as np"
   ]
  },
  {
   "cell_type": "code",
   "execution_count": 3,
   "id": "b1bf5bf5-898b-431e-8908-4b3f11d56d4f",
   "metadata": {},
   "outputs": [
    {
     "name": "stdout",
     "output_type": "stream",
     "text": [
      "Hello Capstone Project Course!\n"
     ]
    }
   ],
   "source": [
    "print ('Hello Capstone Project Course!')"
   ]
  }
 ],
 "metadata": {
  "kernelspec": {
   "display_name": "Python 3",
   "language": "python",
   "name": "python3"
  },
  "language_info": {
   "codemirror_mode": {
    "name": "ipython",
    "version": 3
   },
   "file_extension": ".py",
   "mimetype": "text/x-python",
   "name": "python",
   "nbconvert_exporter": "python",
   "pygments_lexer": "ipython3",
   "version": "3.8.8"
  }
 },
 "nbformat": 4,
 "nbformat_minor": 5
}
